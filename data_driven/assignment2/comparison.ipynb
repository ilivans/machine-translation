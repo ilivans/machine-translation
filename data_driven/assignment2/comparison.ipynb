{
 "cells": [
  {
   "cell_type": "markdown",
   "metadata": {},
   "source": [
    "Here I was looking at dependecies, true orders and mine."
   ]
  },
  {
   "cell_type": "code",
   "execution_count": 1,
   "metadata": {
    "collapsed": true
   },
   "outputs": [],
   "source": [
    "from tree import Tree"
   ]
  },
  {
   "cell_type": "code",
   "execution_count": 2,
   "metadata": {
    "collapsed": true
   },
   "outputs": [],
   "source": [
    "with open(\"dev.parses\") as f:\n",
    "    pars = f.readlines()\n",
    "with open(\"dev.sentences\") as f:\n",
    "    sent = f.readlines()\n",
    "with open(\"dev.reorderings\") as f:\n",
    "    reord = f.readlines()\n",
    "with open(\"dev.my\") as f:\n",
    "    my = f.readlines()"
   ]
  },
  {
   "cell_type": "code",
   "execution_count": 3,
   "metadata": {
    "scrolled": false
   },
   "outputs": [
    {
     "name": "stdout",
     "output_type": "stream",
     "text": [
      "(is:VERB  (shinshu:nsubj one:attr ,:p and:cc succeeded:conj .:p))\n",
      "(shinshu:NOUN  (jodo:nn sect:dep))\n",
      "(one:NUM  (of:prep))\n",
      "(succeeded:VERB  (community:nsubj and:cc developed:conj))\n",
      "(sect:NOUN  ((:p true:amod pure:amod land:nn ):p))\n",
      "(of:ADP  (sects:pobj))\n",
      "(community:NOUN  (a:det religious:amod shinran:rcmod ,:p apprentice:appos ,:p))\n",
      "(developed:VERB  (which:nsubj doctrine:dobj in:prep))\n",
      "(true:ADJ  (shin-buddhism:amod /:p))\n",
      "(sects:NOUN  (the:det of:prep))\n",
      "(shinran:VERB  (that:nsubj))\n",
      "(apprentice:NOUN  (an:det of:prep))\n",
      "(doctrine:NOUN  (honen:poss (:p buddhism:dep ):p))\n",
      "(in:ADP  (period:pobj))\n",
      "(of:ADP  (buddhism:pobj))\n",
      "(of:ADP  (honen:pobj))\n",
      "(honen:NOUN  ('s:ps))\n",
      "(buddhism:NOUN  (jodo:nn shu:nn /:p pure:amod land:nn))\n",
      "(period:NOUN  (the:det early:amod kamakura:nn))\n",
      "(buddhism:NOUN  (japanese:amod))\n",
      "\n",
      "jodo shinshu ( shin-buddhism / true pure land sect ) is one of the sects of japanese buddhism , and a religious community that shinran , an apprentice of honen , succeeded and which developed honen 's doctrine ( jodo shu / pure land buddhism ) in the early kamakura period .\n",
      "jodo shinshu ( shin-buddhism / true pure land sect ) japanese buddhism the sects of of one is {{ , and }} kamakura period in the early honen of an apprentice , that shinran honen 's doctrine ( {{ jodo / pure land }} {{ shu buddhism }} ) , succeeded and which developed a {{ religious community }} .\n",
      "jodo ( shin-buddhism / true pure land sect ) shinshu the japanese buddhism of sects of one is , and a religious that shinran community , an honen of apprentice , and which 's honen doctrine ( jodo shu / pure land buddhism ) the early kamakura period in developed succeeded .\n",
      "\n"
     ]
    }
   ],
   "source": [
    "num_sentences = 1\n",
    "for p, s, r, m in zip(pars, sent, reord, my)[:num_sentences]:\n",
    "    print Tree(p)\n",
    "    print s[:-1]\n",
    "    print r[:-1]\n",
    "    print m[:-1]\n",
    "    print"
   ]
  }
 ],
 "metadata": {
  "kernelspec": {
   "display_name": "Python 2",
   "language": "python",
   "name": "python2"
  },
  "language_info": {
   "codemirror_mode": {
    "name": "ipython",
    "version": 2
   },
   "file_extension": ".py",
   "mimetype": "text/x-python",
   "name": "python",
   "nbconvert_exporter": "python",
   "pygments_lexer": "ipython2",
   "version": "2.7.12"
  }
 },
 "nbformat": 4,
 "nbformat_minor": 2
}
